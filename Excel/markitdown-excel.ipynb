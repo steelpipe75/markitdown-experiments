{
  "nbformat": 4,
  "nbformat_minor": 0,
  "metadata": {
    "colab": {
      "provenance": [],
      "authorship_tag": "ABX9TyNAmzCeGTnD6NSk9tPpBrSS",
      "include_colab_link": true
    },
    "kernelspec": {
      "name": "python3",
      "display_name": "Python 3"
    },
    "language_info": {
      "name": "python"
    }
  },
  "cells": [
    {
      "cell_type": "markdown",
      "metadata": {
        "id": "view-in-github",
        "colab_type": "text"
      },
      "source": [
        "<a href=\"https://colab.research.google.com/github/steelpipe75/markitdown-experiments/blob/main/Excel/markitdown-excel.ipynb\" target=\"_parent\"><img src=\"https://colab.research.google.com/assets/colab-badge.svg\" alt=\"Open In Colab\"/></a>"
      ]
    },
    {
      "cell_type": "markdown",
      "source": [
        "GitHubからテスト用データをClone"
      ],
      "metadata": {
        "id": "V83B6rBBxvQk"
      }
    },
    {
      "cell_type": "code",
      "execution_count": 1,
      "metadata": {
        "colab": {
          "base_uri": "https://localhost:8080/"
        },
        "id": "xvFET4qYxpdg",
        "outputId": "2c7daeea-f986-405f-f00c-36d97a1c0b82"
      },
      "outputs": [
        {
          "output_type": "stream",
          "name": "stdout",
          "text": [
            "Cloning into 'markitdown-experiments'...\n",
            "remote: Enumerating objects: 13, done.\u001b[K\n",
            "remote: Counting objects: 100% (13/13), done.\u001b[K\n",
            "remote: Compressing objects: 100% (12/12), done.\u001b[K\n",
            "remote: Total 13 (delta 4), reused 0 (delta 0), pack-reused 0 (from 0)\u001b[K\n",
            "Receiving objects: 100% (13/13), 17.41 KiB | 17.41 MiB/s, done.\n",
            "Resolving deltas: 100% (4/4), done.\n"
          ]
        }
      ],
      "source": [
        "!git clone https://github.com/steelpipe75/markitdown-experiments.git"
      ]
    },
    {
      "cell_type": "markdown",
      "source": [
        "markitdownをインストール"
      ],
      "metadata": {
        "id": "zB8JV_48yc91"
      }
    },
    {
      "cell_type": "code",
      "source": [
        "!pip install markitdown"
      ],
      "metadata": {
        "colab": {
          "base_uri": "https://localhost:8080/"
        },
        "id": "O_WZKvAwyVK6",
        "outputId": "7a705832-45f7-453b-e748-8b08f4b5cee2"
      },
      "execution_count": 2,
      "outputs": [
        {
          "output_type": "stream",
          "name": "stdout",
          "text": [
            "Collecting markitdown\n",
            "  Downloading markitdown-0.1.2-py3-none-any.whl.metadata (4.0 kB)\n",
            "Requirement already satisfied: beautifulsoup4 in /usr/local/lib/python3.11/dist-packages (from markitdown) (4.13.4)\n",
            "Requirement already satisfied: charset-normalizer in /usr/local/lib/python3.11/dist-packages (from markitdown) (3.4.2)\n",
            "Requirement already satisfied: defusedxml in /usr/local/lib/python3.11/dist-packages (from markitdown) (0.7.1)\n",
            "Collecting magika~=0.6.1 (from markitdown)\n",
            "  Downloading magika-0.6.2-py3-none-manylinux_2_28_x86_64.whl.metadata (15 kB)\n",
            "Collecting markdownify (from markitdown)\n",
            "  Downloading markdownify-1.1.0-py3-none-any.whl.metadata (9.1 kB)\n",
            "Requirement already satisfied: requests in /usr/local/lib/python3.11/dist-packages (from markitdown) (2.32.3)\n",
            "Requirement already satisfied: click>=8.1.7 in /usr/local/lib/python3.11/dist-packages (from magika~=0.6.1->markitdown) (8.2.1)\n",
            "Collecting onnxruntime>=1.17.0 (from magika~=0.6.1->markitdown)\n",
            "  Downloading onnxruntime-1.22.0-cp311-cp311-manylinux_2_27_x86_64.manylinux_2_28_x86_64.whl.metadata (4.5 kB)\n",
            "Requirement already satisfied: numpy>=1.24 in /usr/local/lib/python3.11/dist-packages (from magika~=0.6.1->markitdown) (2.0.2)\n",
            "Collecting python-dotenv>=1.0.1 (from magika~=0.6.1->markitdown)\n",
            "  Downloading python_dotenv-1.1.0-py3-none-any.whl.metadata (24 kB)\n",
            "Requirement already satisfied: soupsieve>1.2 in /usr/local/lib/python3.11/dist-packages (from beautifulsoup4->markitdown) (2.7)\n",
            "Requirement already satisfied: typing-extensions>=4.0.0 in /usr/local/lib/python3.11/dist-packages (from beautifulsoup4->markitdown) (4.13.2)\n",
            "Requirement already satisfied: six<2,>=1.15 in /usr/local/lib/python3.11/dist-packages (from markdownify->markitdown) (1.17.0)\n",
            "Requirement already satisfied: idna<4,>=2.5 in /usr/local/lib/python3.11/dist-packages (from requests->markitdown) (3.10)\n",
            "Requirement already satisfied: urllib3<3,>=1.21.1 in /usr/local/lib/python3.11/dist-packages (from requests->markitdown) (2.4.0)\n",
            "Requirement already satisfied: certifi>=2017.4.17 in /usr/local/lib/python3.11/dist-packages (from requests->markitdown) (2025.4.26)\n",
            "Collecting coloredlogs (from onnxruntime>=1.17.0->magika~=0.6.1->markitdown)\n",
            "  Downloading coloredlogs-15.0.1-py2.py3-none-any.whl.metadata (12 kB)\n",
            "Requirement already satisfied: flatbuffers in /usr/local/lib/python3.11/dist-packages (from onnxruntime>=1.17.0->magika~=0.6.1->markitdown) (25.2.10)\n",
            "Requirement already satisfied: packaging in /usr/local/lib/python3.11/dist-packages (from onnxruntime>=1.17.0->magika~=0.6.1->markitdown) (24.2)\n",
            "Requirement already satisfied: protobuf in /usr/local/lib/python3.11/dist-packages (from onnxruntime>=1.17.0->magika~=0.6.1->markitdown) (5.29.4)\n",
            "Requirement already satisfied: sympy in /usr/local/lib/python3.11/dist-packages (from onnxruntime>=1.17.0->magika~=0.6.1->markitdown) (1.13.1)\n",
            "Collecting humanfriendly>=9.1 (from coloredlogs->onnxruntime>=1.17.0->magika~=0.6.1->markitdown)\n",
            "  Downloading humanfriendly-10.0-py2.py3-none-any.whl.metadata (9.2 kB)\n",
            "Requirement already satisfied: mpmath<1.4,>=1.1.0 in /usr/local/lib/python3.11/dist-packages (from sympy->onnxruntime>=1.17.0->magika~=0.6.1->markitdown) (1.3.0)\n",
            "Downloading markitdown-0.1.2-py3-none-any.whl (57 kB)\n",
            "\u001b[2K   \u001b[90m━━━━━━━━━━━━━━━━━━━━━━━━━━━━━━━━━━━━━━━━\u001b[0m \u001b[32m57.8/57.8 kB\u001b[0m \u001b[31m3.0 MB/s\u001b[0m eta \u001b[36m0:00:00\u001b[0m\n",
            "\u001b[?25hDownloading magika-0.6.2-py3-none-manylinux_2_28_x86_64.whl (15.1 MB)\n",
            "\u001b[2K   \u001b[90m━━━━━━━━━━━━━━━━━━━━━━━━━━━━━━━━━━━━━━━━\u001b[0m \u001b[32m15.1/15.1 MB\u001b[0m \u001b[31m52.4 MB/s\u001b[0m eta \u001b[36m0:00:00\u001b[0m\n",
            "\u001b[?25hDownloading markdownify-1.1.0-py3-none-any.whl (13 kB)\n",
            "Downloading onnxruntime-1.22.0-cp311-cp311-manylinux_2_27_x86_64.manylinux_2_28_x86_64.whl (16.4 MB)\n",
            "\u001b[2K   \u001b[90m━━━━━━━━━━━━━━━━━━━━━━━━━━━━━━━━━━━━━━━━\u001b[0m \u001b[32m16.4/16.4 MB\u001b[0m \u001b[31m56.9 MB/s\u001b[0m eta \u001b[36m0:00:00\u001b[0m\n",
            "\u001b[?25hDownloading python_dotenv-1.1.0-py3-none-any.whl (20 kB)\n",
            "Downloading coloredlogs-15.0.1-py2.py3-none-any.whl (46 kB)\n",
            "\u001b[2K   \u001b[90m━━━━━━━━━━━━━━━━━━━━━━━━━━━━━━━━━━━━━━━━\u001b[0m \u001b[32m46.0/46.0 kB\u001b[0m \u001b[31m2.0 MB/s\u001b[0m eta \u001b[36m0:00:00\u001b[0m\n",
            "\u001b[?25hDownloading humanfriendly-10.0-py2.py3-none-any.whl (86 kB)\n",
            "\u001b[2K   \u001b[90m━━━━━━━━━━━━━━━━━━━━━━━━━━━━━━━━━━━━━━━━\u001b[0m \u001b[32m86.8/86.8 kB\u001b[0m \u001b[31m5.5 MB/s\u001b[0m eta \u001b[36m0:00:00\u001b[0m\n",
            "\u001b[?25hInstalling collected packages: python-dotenv, humanfriendly, markdownify, coloredlogs, onnxruntime, magika, markitdown\n",
            "Successfully installed coloredlogs-15.0.1 humanfriendly-10.0 magika-0.6.2 markdownify-1.1.0 markitdown-0.1.2 onnxruntime-1.22.0 python-dotenv-1.1.0\n"
          ]
        }
      ]
    },
    {
      "cell_type": "code",
      "source": [
        "from markitdown import MarkItDown\n",
        "\n",
        "md = MarkItDown()"
      ],
      "metadata": {
        "id": "n6cLXmYyybqJ"
      },
      "execution_count": 3,
      "outputs": []
    },
    {
      "cell_type": "code",
      "source": [
        "result = md.convert(\"/content/markitdown-experiments/Excel/1_simple_table.xlsx\")\n",
        "print(result.text_content)"
      ],
      "metadata": {
        "colab": {
          "base_uri": "https://localhost:8080/"
        },
        "id": "xxT_JeDmys7h",
        "outputId": "3e55fb67-a01c-45ac-d1ae-4bdf8e0c05b1"
      },
      "execution_count": 4,
      "outputs": [
        {
          "output_type": "stream",
          "name": "stdout",
          "text": [
            "## シート1\n",
            "| a | b | c |\n",
            "| --- | --- | --- |\n",
            "| 1 | 2 | 3 |\n",
            "| 11 | 22 | 33 |\n",
            "| 111 | 222 | 333 |\n",
            "| 100 | 100 | 100 |\n"
          ]
        }
      ]
    },
    {
      "cell_type": "code",
      "source": [
        "result = md.convert(\"/content/markitdown-experiments/Excel/2_alignment-table.xlsx\")\n",
        "print(result.text_content)"
      ],
      "metadata": {
        "colab": {
          "base_uri": "https://localhost:8080/"
        },
        "id": "L5ApG7jty2O6",
        "outputId": "1c9f120f-8b59-4791-864f-625fbb9f5314"
      },
      "execution_count": 5,
      "outputs": [
        {
          "output_type": "stream",
          "name": "stdout",
          "text": [
            "## シート1\n",
            "| left | center | right |\n",
            "| --- | --- | --- |\n",
            "| 1 | 2 | 3 |\n",
            "| 11 | 22 | 33 |\n",
            "| 111 | 222 | 333 |\n",
            "| 100 | 100 | 100 |\n"
          ]
        }
      ]
    },
    {
      "cell_type": "code",
      "source": [
        "result = md.convert(\"/content/markitdown-experiments/Excel/3_merge-columns-table.xlsx\")\n",
        "print(result.text_content)"
      ],
      "metadata": {
        "colab": {
          "base_uri": "https://localhost:8080/"
        },
        "id": "uLcb60-Oy67u",
        "outputId": "33e32ff5-3b0f-4722-acb1-7453fbdabae7"
      },
      "execution_count": 6,
      "outputs": [
        {
          "output_type": "stream",
          "name": "stdout",
          "text": [
            "## シート1\n",
            "| a | b | c |\n",
            "| --- | --- | --- |\n",
            "| 1 | 2.0 | 3 |\n",
            "| 4 | NaN | 5 |\n",
            "| 6 | 7.0 | 8 |\n"
          ]
        }
      ]
    },
    {
      "cell_type": "code",
      "source": [
        "result = md.convert(\"/content/markitdown-experiments/Excel/4_merge-rows-table.xlsx\")\n",
        "print(result.text_content)"
      ],
      "metadata": {
        "colab": {
          "base_uri": "https://localhost:8080/"
        },
        "id": "b_PsQhQ2zIPF",
        "outputId": "60abd787-f20e-47ce-9dd7-3c1a21cf9c15"
      },
      "execution_count": 7,
      "outputs": [
        {
          "output_type": "stream",
          "name": "stdout",
          "text": [
            "## シート1\n",
            "| a | b | c |\n",
            "| --- | --- | --- |\n",
            "| 1.0 | 2 | 3 |\n",
            "| 4.0 | 5 | 6 |\n",
            "| NaN | 7 | 8 |\n"
          ]
        }
      ]
    },
    {
      "cell_type": "code",
      "source": [
        "result = md.convert(\"/content/markitdown-experiments/Excel/5_merge-both-table.xlsx\")\n",
        "print(result.text_content)"
      ],
      "metadata": {
        "colab": {
          "base_uri": "https://localhost:8080/"
        },
        "id": "3QQVX3UezPc7",
        "outputId": "4e7938ca-c96d-4d1d-aeb9-7a2931e33bfc"
      },
      "execution_count": 8,
      "outputs": [
        {
          "output_type": "stream",
          "name": "stdout",
          "text": [
            "## シート1\n",
            "| a | b | c |\n",
            "| --- | --- | --- |\n",
            "| 1.0 | 2.0 | 3 |\n",
            "| 4.0 | NaN | 5 |\n",
            "| NaN | NaN | 6 |\n"
          ]
        }
      ]
    }
  ]
}