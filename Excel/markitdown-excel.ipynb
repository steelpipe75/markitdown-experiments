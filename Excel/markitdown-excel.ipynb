{
  "nbformat": 4,
  "nbformat_minor": 0,
  "metadata": {
    "colab": {
      "provenance": [],
      "authorship_tag": "ABX9TyOArZc9D9JTaBcWtoq6Na8U",
      "include_colab_link": true
    },
    "kernelspec": {
      "name": "python3",
      "display_name": "Python 3"
    },
    "language_info": {
      "name": "python"
    }
  },
  "cells": [
    {
      "cell_type": "markdown",
      "metadata": {
        "id": "view-in-github",
        "colab_type": "text"
      },
      "source": [
        "<a href=\"https://colab.research.google.com/github/steelpipe75/markitdown-experiments/blob/main/Excel/markitdown-excel.ipynb\" target=\"_parent\"><img src=\"https://colab.research.google.com/assets/colab-badge.svg\" alt=\"Open In Colab\"/></a>"
      ]
    },
    {
      "cell_type": "markdown",
      "source": [
        "GitHubからCloneしてテスト用データをもってくる"
      ],
      "metadata": {
        "id": "V83B6rBBxvQk"
      }
    },
    {
      "cell_type": "code",
      "execution_count": 1,
      "metadata": {
        "colab": {
          "base_uri": "https://localhost:8080/"
        },
        "id": "xvFET4qYxpdg",
        "outputId": "2d824230-1f5f-44ac-f64e-39e0d39afb23"
      },
      "outputs": [
        {
          "output_type": "stream",
          "name": "stdout",
          "text": [
            "Cloning into 'markitdown-experiments'...\n",
            "remote: Enumerating objects: 27, done.\u001b[K\n",
            "remote: Counting objects: 100% (27/27), done.\u001b[K\n",
            "remote: Compressing objects: 100% (26/26), done.\u001b[K\n",
            "remote: Total 27 (delta 11), reused 0 (delta 0), pack-reused 0 (from 0)\u001b[K\n",
            "Receiving objects: 100% (27/27), 28.53 KiB | 14.26 MiB/s, done.\n",
            "Resolving deltas: 100% (11/11), done.\n"
          ]
        }
      ],
      "source": [
        "!git clone https://github.com/steelpipe75/markitdown-experiments.git"
      ]
    },
    {
      "cell_type": "markdown",
      "source": [
        "markitdownをインストール"
      ],
      "metadata": {
        "id": "zB8JV_48yc91"
      }
    },
    {
      "cell_type": "code",
      "source": [
        "!pip install markitdown"
      ],
      "metadata": {
        "colab": {
          "base_uri": "https://localhost:8080/"
        },
        "id": "O_WZKvAwyVK6",
        "outputId": "5b6566d8-ed02-4917-8a0d-d6c9556da0b4"
      },
      "execution_count": 2,
      "outputs": [
        {
          "output_type": "stream",
          "name": "stdout",
          "text": [
            "Collecting markitdown\n",
            "  Downloading markitdown-0.1.2-py3-none-any.whl.metadata (4.0 kB)\n",
            "Requirement already satisfied: beautifulsoup4 in /usr/local/lib/python3.11/dist-packages (from markitdown) (4.13.4)\n",
            "Requirement already satisfied: charset-normalizer in /usr/local/lib/python3.11/dist-packages (from markitdown) (3.4.2)\n",
            "Requirement already satisfied: defusedxml in /usr/local/lib/python3.11/dist-packages (from markitdown) (0.7.1)\n",
            "Collecting magika~=0.6.1 (from markitdown)\n",
            "  Downloading magika-0.6.2-py3-none-manylinux_2_28_x86_64.whl.metadata (15 kB)\n",
            "Collecting markdownify (from markitdown)\n",
            "  Downloading markdownify-1.1.0-py3-none-any.whl.metadata (9.1 kB)\n",
            "Requirement already satisfied: requests in /usr/local/lib/python3.11/dist-packages (from markitdown) (2.32.3)\n",
            "Requirement already satisfied: click>=8.1.7 in /usr/local/lib/python3.11/dist-packages (from magika~=0.6.1->markitdown) (8.2.1)\n",
            "Collecting onnxruntime>=1.17.0 (from magika~=0.6.1->markitdown)\n",
            "  Downloading onnxruntime-1.22.0-cp311-cp311-manylinux_2_27_x86_64.manylinux_2_28_x86_64.whl.metadata (4.5 kB)\n",
            "Requirement already satisfied: numpy>=1.24 in /usr/local/lib/python3.11/dist-packages (from magika~=0.6.1->markitdown) (2.0.2)\n",
            "Collecting python-dotenv>=1.0.1 (from magika~=0.6.1->markitdown)\n",
            "  Downloading python_dotenv-1.1.0-py3-none-any.whl.metadata (24 kB)\n",
            "Requirement already satisfied: soupsieve>1.2 in /usr/local/lib/python3.11/dist-packages (from beautifulsoup4->markitdown) (2.7)\n",
            "Requirement already satisfied: typing-extensions>=4.0.0 in /usr/local/lib/python3.11/dist-packages (from beautifulsoup4->markitdown) (4.13.2)\n",
            "Requirement already satisfied: six<2,>=1.15 in /usr/local/lib/python3.11/dist-packages (from markdownify->markitdown) (1.17.0)\n",
            "Requirement already satisfied: idna<4,>=2.5 in /usr/local/lib/python3.11/dist-packages (from requests->markitdown) (3.10)\n",
            "Requirement already satisfied: urllib3<3,>=1.21.1 in /usr/local/lib/python3.11/dist-packages (from requests->markitdown) (2.4.0)\n",
            "Requirement already satisfied: certifi>=2017.4.17 in /usr/local/lib/python3.11/dist-packages (from requests->markitdown) (2025.4.26)\n",
            "Collecting coloredlogs (from onnxruntime>=1.17.0->magika~=0.6.1->markitdown)\n",
            "  Downloading coloredlogs-15.0.1-py2.py3-none-any.whl.metadata (12 kB)\n",
            "Requirement already satisfied: flatbuffers in /usr/local/lib/python3.11/dist-packages (from onnxruntime>=1.17.0->magika~=0.6.1->markitdown) (25.2.10)\n",
            "Requirement already satisfied: packaging in /usr/local/lib/python3.11/dist-packages (from onnxruntime>=1.17.0->magika~=0.6.1->markitdown) (24.2)\n",
            "Requirement already satisfied: protobuf in /usr/local/lib/python3.11/dist-packages (from onnxruntime>=1.17.0->magika~=0.6.1->markitdown) (5.29.4)\n",
            "Requirement already satisfied: sympy in /usr/local/lib/python3.11/dist-packages (from onnxruntime>=1.17.0->magika~=0.6.1->markitdown) (1.13.1)\n",
            "\u001b[33mWARNING: Retrying (Retry(total=4, connect=None, read=None, redirect=None, status=None)) after connection broken by 'ProtocolError('Connection aborted.', RemoteDisconnected('Remote end closed connection without response'))': /simple/humanfriendly/\u001b[0m\u001b[33m\n",
            "\u001b[0mCollecting humanfriendly>=9.1 (from coloredlogs->onnxruntime>=1.17.0->magika~=0.6.1->markitdown)\n",
            "  Downloading humanfriendly-10.0-py2.py3-none-any.whl.metadata (9.2 kB)\n",
            "Requirement already satisfied: mpmath<1.4,>=1.1.0 in /usr/local/lib/python3.11/dist-packages (from sympy->onnxruntime>=1.17.0->magika~=0.6.1->markitdown) (1.3.0)\n",
            "Downloading markitdown-0.1.2-py3-none-any.whl (57 kB)\n",
            "\u001b[2K   \u001b[90m━━━━━━━━━━━━━━━━━━━━━━━━━━━━━━━━━━━━━━━━\u001b[0m \u001b[32m57.8/57.8 kB\u001b[0m \u001b[31m2.0 MB/s\u001b[0m eta \u001b[36m0:00:00\u001b[0m\n",
            "\u001b[?25hDownloading magika-0.6.2-py3-none-manylinux_2_28_x86_64.whl (15.1 MB)\n",
            "\u001b[2K   \u001b[90m━━━━━━━━━━━━━━━━━━━━━━━━━━━━━━━━━━━━━━━━\u001b[0m \u001b[32m15.1/15.1 MB\u001b[0m \u001b[31m30.4 MB/s\u001b[0m eta \u001b[36m0:00:00\u001b[0m\n",
            "\u001b[?25hDownloading markdownify-1.1.0-py3-none-any.whl (13 kB)\n",
            "Downloading onnxruntime-1.22.0-cp311-cp311-manylinux_2_27_x86_64.manylinux_2_28_x86_64.whl (16.4 MB)\n",
            "\u001b[2K   \u001b[90m━━━━━━━━━━━━━━━━━━━━━━━━━━━━━━━━━━━━━━━━\u001b[0m \u001b[32m16.4/16.4 MB\u001b[0m \u001b[31m63.3 MB/s\u001b[0m eta \u001b[36m0:00:00\u001b[0m\n",
            "\u001b[?25hDownloading python_dotenv-1.1.0-py3-none-any.whl (20 kB)\n",
            "Downloading coloredlogs-15.0.1-py2.py3-none-any.whl (46 kB)\n",
            "\u001b[2K   \u001b[90m━━━━━━━━━━━━━━━━━━━━━━━━━━━━━━━━━━━━━━━━\u001b[0m \u001b[32m46.0/46.0 kB\u001b[0m \u001b[31m3.2 MB/s\u001b[0m eta \u001b[36m0:00:00\u001b[0m\n",
            "\u001b[?25hDownloading humanfriendly-10.0-py2.py3-none-any.whl (86 kB)\n",
            "\u001b[2K   \u001b[90m━━━━━━━━━━━━━━━━━━━━━━━━━━━━━━━━━━━━━━━━\u001b[0m \u001b[32m86.8/86.8 kB\u001b[0m \u001b[31m5.4 MB/s\u001b[0m eta \u001b[36m0:00:00\u001b[0m\n",
            "\u001b[?25hInstalling collected packages: python-dotenv, humanfriendly, markdownify, coloredlogs, onnxruntime, magika, markitdown\n",
            "Successfully installed coloredlogs-15.0.1 humanfriendly-10.0 magika-0.6.2 markdownify-1.1.0 markitdown-0.1.2 onnxruntime-1.22.0 python-dotenv-1.1.0\n"
          ]
        }
      ]
    },
    {
      "cell_type": "code",
      "source": [
        "from markitdown import MarkItDown\n",
        "\n",
        "md = MarkItDown()"
      ],
      "metadata": {
        "id": "n6cLXmYyybqJ"
      },
      "execution_count": 3,
      "outputs": []
    },
    {
      "cell_type": "code",
      "source": [
        "result = md.convert(\"/content/markitdown-experiments/Excel/1_simple_table.xlsx\")\n",
        "print(result.text_content)"
      ],
      "metadata": {
        "colab": {
          "base_uri": "https://localhost:8080/"
        },
        "id": "xxT_JeDmys7h",
        "outputId": "5c342bea-7137-4fae-c676-d699aed9ee9c"
      },
      "execution_count": 4,
      "outputs": [
        {
          "output_type": "stream",
          "name": "stdout",
          "text": [
            "## シート1\n",
            "| a | b | c |\n",
            "| --- | --- | --- |\n",
            "| 1 | 2 | 3 |\n",
            "| 11 | 22 | 33 |\n",
            "| 111 | 222 | 333 |\n",
            "| 100 | 100 | 100 |\n"
          ]
        }
      ]
    },
    {
      "cell_type": "code",
      "source": [
        "result = md.convert(\"/content/markitdown-experiments/Excel/2_alignment-table.xlsx\")\n",
        "print(result.text_content)"
      ],
      "metadata": {
        "colab": {
          "base_uri": "https://localhost:8080/"
        },
        "id": "L5ApG7jty2O6",
        "outputId": "ceb9d96d-e632-46fd-9608-81740d63949d"
      },
      "execution_count": 5,
      "outputs": [
        {
          "output_type": "stream",
          "name": "stdout",
          "text": [
            "## シート1\n",
            "| left | center | right |\n",
            "| --- | --- | --- |\n",
            "| 1 | 2 | 3 |\n",
            "| 11 | 22 | 33 |\n",
            "| 111 | 222 | 333 |\n",
            "| 100 | 100 | 100 |\n"
          ]
        }
      ]
    },
    {
      "cell_type": "code",
      "source": [
        "result = md.convert(\"/content/markitdown-experiments/Excel/3_merge-columns-table.xlsx\")\n",
        "print(result.text_content)"
      ],
      "metadata": {
        "colab": {
          "base_uri": "https://localhost:8080/"
        },
        "id": "uLcb60-Oy67u",
        "outputId": "07d811c7-9134-4678-cb35-c134390587c3"
      },
      "execution_count": 6,
      "outputs": [
        {
          "output_type": "stream",
          "name": "stdout",
          "text": [
            "## シート1\n",
            "| a | b | c |\n",
            "| --- | --- | --- |\n",
            "| 1 | 2.0 | 3 |\n",
            "| 4 | NaN | 5 |\n",
            "| 6 | 7.0 | 8 |\n"
          ]
        }
      ]
    },
    {
      "cell_type": "code",
      "source": [
        "result = md.convert(\"/content/markitdown-experiments/Excel/4_merge-rows-table.xlsx\")\n",
        "print(result.text_content)"
      ],
      "metadata": {
        "colab": {
          "base_uri": "https://localhost:8080/"
        },
        "id": "b_PsQhQ2zIPF",
        "outputId": "f385b50f-d415-441b-d564-85cb09959f2f"
      },
      "execution_count": 7,
      "outputs": [
        {
          "output_type": "stream",
          "name": "stdout",
          "text": [
            "## シート1\n",
            "| a | b | c |\n",
            "| --- | --- | --- |\n",
            "| 1.0 | 2 | 3 |\n",
            "| 4.0 | 5 | 6 |\n",
            "| NaN | 7 | 8 |\n"
          ]
        }
      ]
    },
    {
      "cell_type": "code",
      "source": [
        "result = md.convert(\"/content/markitdown-experiments/Excel/5_merge-both-table.xlsx\")\n",
        "print(result.text_content)"
      ],
      "metadata": {
        "colab": {
          "base_uri": "https://localhost:8080/"
        },
        "id": "3QQVX3UezPc7",
        "outputId": "4083b017-664c-4455-dbac-32166eb2251d"
      },
      "execution_count": 8,
      "outputs": [
        {
          "output_type": "stream",
          "name": "stdout",
          "text": [
            "## シート1\n",
            "| a | b | c |\n",
            "| --- | --- | --- |\n",
            "| 1.0 | 2.0 | 3 |\n",
            "| 4.0 | NaN | 5 |\n",
            "| NaN | NaN | 6 |\n"
          ]
        }
      ]
    },
    {
      "cell_type": "code",
      "source": [
        "result = md.convert(\"/content/markitdown-experiments/Excel/6_empty-cell.xlsx\")\n",
        "print(result.text_content)"
      ],
      "metadata": {
        "id": "gO4i81giymaB",
        "outputId": "a6f1c527-9df6-4f9a-f3c7-05c8c3760536",
        "colab": {
          "base_uri": "https://localhost:8080/"
        }
      },
      "execution_count": 9,
      "outputs": [
        {
          "output_type": "stream",
          "name": "stdout",
          "text": [
            "## シート1\n",
            "| a | b | c |\n",
            "| --- | --- | --- |\n",
            "| 1 | 2.0 | 3 |\n",
            "| 4 | NaN | 5 |\n",
            "| 6 | 7.0 | 8 |\n"
          ]
        }
      ]
    },
    {
      "cell_type": "code",
      "source": [
        "result = md.convert(\"/content/markitdown-experiments/Excel/7_multiline.xlsx\")\n",
        "print(result.text_content)"
      ],
      "metadata": {
        "id": "w5OW-meLyn0X",
        "outputId": "6309213e-8f4f-4fac-e468-1eb2a5f102a3",
        "colab": {
          "base_uri": "https://localhost:8080/"
        }
      },
      "execution_count": 10,
      "outputs": [
        {
          "output_type": "stream",
          "name": "stdout",
          "text": [
            "## シート1\n",
            "| a | b | c |\n",
            "| --- | --- | --- |\n",
            "| test | 1 | 1\\n1 |\n",
            "| test\\n\\ntest | 2 | 2\\n\\n2 |\n",
            "| \\ntest\\ntest\\ntest | 3 | \\n3\\n3\\n3 |\n"
          ]
        }
      ]
    },
    {
      "cell_type": "code",
      "source": [
        "result = md.convert(\"/content/markitdown-experiments/Excel/8_multiple-sheets.xlsx\")\n",
        "print(result.text_content)"
      ],
      "metadata": {
        "id": "LJVXMnkvyoii",
        "outputId": "80513352-a645-4ac7-ab1d-e5589b96f0cc",
        "colab": {
          "base_uri": "https://localhost:8080/"
        }
      },
      "execution_count": 11,
      "outputs": [
        {
          "output_type": "stream",
          "name": "stdout",
          "text": [
            "## シート1\n",
            "| a | b | c |\n",
            "| --- | --- | --- |\n",
            "| 1 | 2 | 3 |\n",
            "| 4 | 5 | 6 |\n",
            "| 7 | 8 | 9 |\n",
            "\n",
            "## シート2\n",
            "| aa | bb | cc |\n",
            "| --- | --- | --- |\n",
            "| 11 | 22 | 33 |\n",
            "| 44 | 55 | 66 |\n",
            "| 77 | 88 | 99 |\n"
          ]
        }
      ]
    },
    {
      "cell_type": "code",
      "source": [
        "result = md.convert(\"/content/markitdown-experiments/Excel/9_special-characters-table.xlsx\")\n",
        "print(result.text_content)"
      ],
      "metadata": {
        "id": "AmGFnv3byoPR",
        "outputId": "e78cdef7-f487-4df8-a676-f3da49b6be65",
        "colab": {
          "base_uri": "https://localhost:8080/"
        }
      },
      "execution_count": 12,
      "outputs": [
        {
          "output_type": "stream",
          "name": "stdout",
          "text": [
            "## シート1\n",
            "| 記号 | 説明 |\n",
            "| --- | --- |\n",
            "| # | 見出し |\n",
            "| \\* | リスト・強調 |\n",
            "| \\_ | 強調 |\n",
            "| - | リスト・区切り線 |\n",
            "| + | リスト |\n",
            "| = | イコール |\n",
            "| | | テーブルの区切り |\n",
            "| > | 引用 |\n",
            "| \\ | エスケープ |\n",
            "| ~ | 取り消し線 |\n",
            "| ` | コード |\n",
            "| [リンク](https://example.com) | リンク記法 |\n",
            "| ![画像](https://example.com/image.png) | 画像記法 |\n",
            "| {カッコ} | 拡張記法で使われる |\n",
            "| : | コロン |\n",
            "| 1. 番号付きリスト | 番号付きリスト |\n",
            "| & | アンパサンド |\n",
            "| <タグ> | HTMLタグ |\n",
            "| ! | 画像挿入 |\n"
          ]
        }
      ]
    }
  ]
}